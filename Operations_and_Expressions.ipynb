{
  "nbformat": 4,
  "nbformat_minor": 0,
  "metadata": {
    "colab": {
      "name": "Operations and Expressions.ipynb",
      "provenance": [],
      "authorship_tag": "ABX9TyPCwu2KHYIxnGMu5MCgTDuj",
      "include_colab_link": true
    },
    "kernelspec": {
      "name": "python3",
      "display_name": "Python 3"
    },
    "language_info": {
      "name": "python"
    }
  },
  "cells": [
    {
      "cell_type": "markdown",
      "metadata": {
        "id": "view-in-github",
        "colab_type": "text"
      },
      "source": [
        "<a href=\"https://colab.research.google.com/github/Misola-AiraMae/CPEN-21A-BSECE2-1/blob/main/Operations_and_Expressions.ipynb\" target=\"_parent\"><img src=\"https://colab.research.google.com/assets/colab-badge.svg\" alt=\"Open In Colab\"/></a>"
      ]
    },
    {
      "cell_type": "markdown",
      "metadata": {
        "id": "qSGrYhdN2rzd"
      },
      "source": [
        "##Boolean Operators"
      ]
    },
    {
      "cell_type": "code",
      "metadata": {
        "colab": {
          "base_uri": "https://localhost:8080/"
        },
        "id": "oCTfzY2I2jC5",
        "outputId": "db464987-a50f-41f4-88a1-8ba79a909f37"
      },
      "source": [
        "x=1\n",
        "y=2\n",
        "\n",
        "print(x>y)\n",
        "print(10>11)\n",
        "print(10==10)\n",
        "print(10!=11)"
      ],
      "execution_count": 5,
      "outputs": [
        {
          "output_type": "stream",
          "name": "stdout",
          "text": [
            "False\n",
            "False\n",
            "True\n",
            "True\n"
          ]
        }
      ]
    },
    {
      "cell_type": "code",
      "metadata": {
        "colab": {
          "base_uri": "https://localhost:8080/"
        },
        "id": "2IjJ9zQJ4pwd",
        "outputId": "19d94915-bd47-40e3-9d32-b381bbc294f7"
      },
      "source": [
        "#using bool() function\n",
        "print(bool(\"Hello\"))\n",
        "print(bool(15))\n",
        "\n",
        "print(bool(True))\n",
        "print(bool(False))\n",
        "print(bool(None))\n",
        "print(bool(0))\n",
        "print(bool([]))"
      ],
      "execution_count": 9,
      "outputs": [
        {
          "output_type": "stream",
          "name": "stdout",
          "text": [
            "True\n",
            "True\n",
            "True\n",
            "False\n",
            "False\n",
            "False\n",
            "False\n"
          ]
        }
      ]
    },
    {
      "cell_type": "markdown",
      "metadata": {
        "id": "69kbA8AN5RtM"
      },
      "source": [
        "###Functions can return Boolean"
      ]
    },
    {
      "cell_type": "code",
      "metadata": {
        "colab": {
          "base_uri": "https://localhost:8080/"
        },
        "id": "vX0gVSy05WK1",
        "outputId": "e6d44154-c9bc-42d5-a08a-50732ae88edd"
      },
      "source": [
        "def myFunction(): return False\n",
        "\n",
        "print(myFunction())\n"
      ],
      "execution_count": 10,
      "outputs": [
        {
          "output_type": "stream",
          "name": "stdout",
          "text": [
            "True\n"
          ]
        }
      ]
    },
    {
      "cell_type": "code",
      "metadata": {
        "colab": {
          "base_uri": "https://localhost:8080/"
        },
        "id": "qiJZt_yE5uRR",
        "outputId": "b0187ce7-1ae0-4905-abca-6499824f30f7"
      },
      "source": [
        "def yourFunction(): return False\n",
        "\n",
        "if yourFunction():\n",
        "  print(\"Yes!\")\n",
        "else:\n",
        "  print(\"No\")"
      ],
      "execution_count": 15,
      "outputs": [
        {
          "output_type": "stream",
          "name": "stdout",
          "text": [
            "No\n"
          ]
        }
      ]
    },
    {
      "cell_type": "markdown",
      "metadata": {
        "id": "8f9VGeXh6Pta"
      },
      "source": [
        "###You Try"
      ]
    },
    {
      "cell_type": "code",
      "metadata": {
        "colab": {
          "base_uri": "https://localhost:8080/"
        },
        "id": "QWTDxnre6S-b",
        "outputId": "cad7c063-59b9-438f-d087-82cf8670835a"
      },
      "source": [
        "a=6\n",
        "b=7\n",
        "print(a==b)\n",
        "print(a!=a)"
      ],
      "execution_count": 14,
      "outputs": [
        {
          "output_type": "stream",
          "name": "stdout",
          "text": [
            "False\n",
            "False\n"
          ]
        }
      ]
    },
    {
      "cell_type": "markdown",
      "metadata": {
        "id": "4md2Z8Il8ALT"
      },
      "source": [
        "##Arithmetic Operators"
      ]
    },
    {
      "cell_type": "code",
      "metadata": {
        "colab": {
          "base_uri": "https://localhost:8080/"
        },
        "id": "JJE1gODh8XkE",
        "outputId": "69f72793-37ee-4252-e8c2-554eae91bfca"
      },
      "source": [
        "print(10+5)\n",
        "print(10-5)\n",
        "print(10*5)\n",
        "print(10/5)\n",
        "print(10%5) #modulo division, remainder\n",
        "print(10//5) #floor division, whole number\n",
        "print(10//3) #floor division\n",
        "print(10%3) #3 x 3 =9 + 1"
      ],
      "execution_count": 21,
      "outputs": [
        {
          "output_type": "stream",
          "name": "stdout",
          "text": [
            "15\n",
            "5\n",
            "50\n",
            "2.0\n",
            "0\n",
            "2\n",
            "3\n",
            "1\n"
          ]
        }
      ]
    },
    {
      "cell_type": "markdown",
      "metadata": {
        "id": "xgJmLgCW9bCk"
      },
      "source": [
        "##Bitwise Operators"
      ]
    },
    {
      "cell_type": "code",
      "metadata": {
        "colab": {
          "base_uri": "https://localhost:8080/"
        },
        "id": "bje5WGws9gGc",
        "outputId": "b413d6df-096f-4f9a-e80c-2d6b2d77fff7"
      },
      "source": [
        "a=60 #0011 1100\n",
        "b=13 #0000 1101\n",
        "\n",
        "print(a&b)\n",
        "print(a|b)\n",
        "print(a^b)\n",
        "print(-a) \n",
        "print(a<<1) #0011 1000\n",
        "print(a<<2) #1111 0000\n",
        "print(b>>1) #1 0000 0110\n",
        "print(b>>2) #0000 0011 carry flag bit =01"
      ],
      "execution_count": 29,
      "outputs": [
        {
          "output_type": "stream",
          "name": "stdout",
          "text": [
            "12\n",
            "61\n",
            "49\n",
            "-60\n",
            "120\n",
            "240\n",
            "6\n",
            "3\n"
          ]
        }
      ]
    },
    {
      "cell_type": "markdown",
      "metadata": {
        "id": "WXoxHPQiBv-0"
      },
      "source": [
        "##Python Assignment Operators"
      ]
    },
    {
      "cell_type": "code",
      "metadata": {
        "colab": {
          "base_uri": "https://localhost:8080/"
        },
        "id": "-jZ0kP3EB1LK",
        "outputId": "af136761-cda6-40a2-b675-b7a09e803cac"
      },
      "source": [
        "a+=3 # Same As a = a +3\n",
        "     # Same As a = 60 + 3, a = 63\n",
        "print(a)"
      ],
      "execution_count": 30,
      "outputs": [
        {
          "output_type": "stream",
          "name": "stdout",
          "text": [
            "63\n"
          ]
        }
      ]
    },
    {
      "cell_type": "markdown",
      "metadata": {
        "id": "9350gpS1CU2C"
      },
      "source": [
        "##Logical Operators"
      ]
    },
    {
      "cell_type": "code",
      "metadata": {
        "colab": {
          "base_uri": "https://localhost:8080/"
        },
        "id": "oqqSnJZOCXlJ",
        "outputId": "a3d1e106-c06d-4d05-a1eb-24afb2de9b72"
      },
      "source": [
        "#and logical operator\n",
        "a= True\n",
        "b= False\n",
        "\n",
        "print(a and b)\n",
        "print(not(a and b))\n",
        "print(a or b)\n",
        "print(not(a or b))"
      ],
      "execution_count": 34,
      "outputs": [
        {
          "output_type": "stream",
          "name": "stdout",
          "text": [
            "False\n",
            "True\n",
            "True\n",
            "False\n"
          ]
        }
      ]
    },
    {
      "cell_type": "code",
      "metadata": {
        "colab": {
          "base_uri": "https://localhost:8080/"
        },
        "id": "vInVZYAeDFaX",
        "outputId": "31c2dd9f-c595-43b5-ef36-27edc6f1d70b"
      },
      "source": [
        "print(a is b)\n",
        "print(a is not b)"
      ],
      "execution_count": 37,
      "outputs": [
        {
          "output_type": "stream",
          "name": "stdout",
          "text": [
            "False\n",
            "True\n"
          ]
        }
      ]
    }
  ]
}