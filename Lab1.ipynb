{
  "nbformat": 4,
  "nbformat_minor": 0,
  "metadata": {
    "colab": {
      "name": "Lab1.ipynb",
      "provenance": [],
      "authorship_tag": "ABX9TyMTj+EeRJkcDfEEP/yBQDib",
      "include_colab_link": true
    },
    "kernelspec": {
      "name": "python3",
      "display_name": "Python 3"
    },
    "language_info": {
      "name": "python"
    }
  },
  "cells": [
    {
      "cell_type": "markdown",
      "metadata": {
        "id": "view-in-github",
        "colab_type": "text"
      },
      "source": [
        "<a href=\"https://colab.research.google.com/github/Misola-AiraMae/CPEN-21A-BSECE2-1/blob/main/Lab1.ipynb\" target=\"_parent\"><img src=\"https://colab.research.google.com/assets/colab-badge.svg\" alt=\"Open In Colab\"/></a>"
      ]
    },
    {
      "cell_type": "markdown",
      "metadata": {
        "id": "_EZ2cYy2pLeg"
      },
      "source": [
        "**Laboratory 1**"
      ]
    },
    {
      "cell_type": "code",
      "metadata": {
        "colab": {
          "base_uri": "https://localhost:8080/"
        },
        "id": "evXCCLT2pRsu",
        "outputId": "aa25f930-10c1-4fda-ec18-b375185ab02d"
      },
      "source": [
        "print(\"Welcome to Python Programming\")"
      ],
      "execution_count": 21,
      "outputs": [
        {
          "output_type": "stream",
          "name": "stdout",
          "text": [
            "Welcome to Python Programming\n"
          ]
        }
      ]
    },
    {
      "cell_type": "code",
      "metadata": {
        "colab": {
          "base_uri": "https://localhost:8080/"
        },
        "id": "AF8UbPCRsIsv",
        "outputId": "ba56a9b9-9dad-48a5-ae68-795f282bdd99"
      },
      "source": [
        "name=input(\"Name:\")\n",
        "age=input(\"Age:\")\n",
        "address=input(\"Address:\")"
      ],
      "execution_count": 29,
      "outputs": [
        {
          "name": "stdout",
          "output_type": "stream",
          "text": [
            "Name:Aira Mae Misola\n",
            "Age:20\n",
            "Address:Carmona, Cavite\n"
          ]
        }
      ]
    }
  ]
}