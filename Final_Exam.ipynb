{
  "nbformat": 4,
  "nbformat_minor": 0,
  "metadata": {
    "colab": {
      "name": "Final Exam.ipynb",
      "provenance": [],
      "collapsed_sections": [],
      "authorship_tag": "ABX9TyN6x2gkBBX3WCWbQCGLOwv0",
      "include_colab_link": true
    },
    "kernelspec": {
      "name": "python3",
      "display_name": "Python 3"
    },
    "language_info": {
      "name": "python"
    }
  },
  "cells": [
    {
      "cell_type": "markdown",
      "metadata": {
        "id": "view-in-github",
        "colab_type": "text"
      },
      "source": [
        "<a href=\"https://colab.research.google.com/github/Misola-AiraMae/CPEN-21A-BSECE2-1/blob/main/Final_Exam.ipynb\" target=\"_parent\"><img src=\"https://colab.research.google.com/assets/colab-badge.svg\" alt=\"Open In Colab\"/></a>"
      ]
    },
    {
      "cell_type": "markdown",
      "source": [
        "#**Final Exam**"
      ],
      "metadata": {
        "id": "UrgPsd3w9zv6"
      }
    },
    {
      "cell_type": "markdown",
      "source": [
        "##PROBLEM STATEMENT 1\n",
        "#####Create a Python program that will produce an output of sum of 10 numbers less than 5 using FOR LOOP statement."
      ],
      "metadata": {
        "id": "AT2x68LC-4ze"
      }
    },
    {
      "cell_type": "code",
      "source": [
        "print(\"Enter 10 numbers less than 5\")\n",
        "a=int(input(\"\"))\n",
        "b=int(input(\"\"))\n",
        "c=int(input(\"\"))\n",
        "d=int(input(\"\"))\n",
        "e=int(input(\"\"))\n",
        "f=int(input(\"\"))\n",
        "g=int(input(\"\"))\n",
        "h=int(input(\"\"))\n",
        "i=int(input(\"\"))\n",
        "j=int(input(\"\"))\n",
        "x=[a,b,c,d,e,f,g,h,i,j]\n",
        "y=0\n",
        "for n in x:\n",
        "  y+=n\n",
        "print(\"The sum of 10 numbers are\", y)"
      ],
      "metadata": {
        "colab": {
          "base_uri": "https://localhost:8080/"
        },
        "id": "6bfM0rer0591",
        "outputId": "d340efaf-3336-4db1-aa69-53724f3af4c2"
      },
      "execution_count": 30,
      "outputs": [
        {
          "output_type": "stream",
          "name": "stdout",
          "text": [
            "Enter 10 numbers less than 5\n",
            "3\n",
            "2\n",
            "4\n",
            "1\n",
            "2\n",
            "3\n",
            "1\n",
            "2\n",
            "4\n",
            "2\n",
            "The sum of 10 numbers are 24\n"
          ]
        }
      ]
    },
    {
      "cell_type": "markdown",
      "source": [
        "#**PROBLEM STATEMENT 2**\n",
        "#####Create a Python program that will produce accept five numbers and determine the sum of first and last number among the five numbers entered using WHILE LOOP    "
      ],
      "metadata": {
        "id": "mxeM1XpVvTIn"
      }
    },
    {
      "cell_type": "code",
      "source": [
        "print(\"Enter 5 numbers\")\n",
        "a=int(input(\"\"))\n",
        "b=int(input(\"\"))\n",
        "c=int(input(\"\"))\n",
        "d=int(input(\"\"))\n",
        "e=int(input(\"\"))\n",
        "y=0\n",
        "i=1\n",
        "while i<=1:\n",
        "  y=a+e\n",
        "  i+=1\n",
        "  print(\"The sum of first and last number is\", y)\n"
      ],
      "metadata": {
        "colab": {
          "base_uri": "https://localhost:8080/"
        },
        "id": "_ykyyfcSwI4G",
        "outputId": "492fb77b-eb62-4b2d-c075-4a0db46c7dfa"
      },
      "execution_count": 25,
      "outputs": [
        {
          "output_type": "stream",
          "name": "stdout",
          "text": [
            "Enter 5 numbers\n",
            "3\n",
            "4\n",
            "5\n",
            "7\n",
            "10\n",
            "The sum of first and last number is 13\n"
          ]
        }
      ]
    },
    {
      "cell_type": "markdown",
      "source": [
        "#**PROBLEM STATEMENT 3**\n",
        "#####Create a Python program to calculate student grades. It accepts a numerical grade as input and it will display the character grade as output based on the given scale: (Use Nested-IF-Else statement)"
      ],
      "metadata": {
        "id": "aPhSnzjrvrf-"
      }
    },
    {
      "cell_type": "code",
      "source": [
        "g=int(input(\"Enter your numerical Grade:\"))\n",
        "if g>=90 and g<=100:\n",
        "  print(\"A\")\n",
        "elif g>=80 and g<=89:\n",
        "  print(\"B\")\n",
        "elif g>=70 and g<=79:\n",
        "  print(\"C\")\n",
        "elif g>=60 and g<=69:\n",
        "  print(\"D\")\n",
        "else:\n",
        "  print(\"F\")"
      ],
      "metadata": {
        "colab": {
          "base_uri": "https://localhost:8080/"
        },
        "id": "vQsuDRz-mE5A",
        "outputId": "298eef4b-1a02-4b04-d6b0-8bf5143f35ea"
      },
      "execution_count": 24,
      "outputs": [
        {
          "output_type": "stream",
          "name": "stdout",
          "text": [
            "Enter your numerical Grade:88\n",
            "B\n"
          ]
        }
      ]
    }
  ]
}