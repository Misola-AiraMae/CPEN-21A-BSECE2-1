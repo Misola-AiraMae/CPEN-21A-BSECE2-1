{
  "nbformat": 4,
  "nbformat_minor": 0,
  "metadata": {
    "colab": {
      "name": "Midterm Exam.ipynb",
      "provenance": [],
      "authorship_tag": "ABX9TyPdjzLODj2VIfxtuFGvhEAa",
      "include_colab_link": true
    },
    "kernelspec": {
      "name": "python3",
      "display_name": "Python 3"
    },
    "language_info": {
      "name": "python"
    }
  },
  "cells": [
    {
      "cell_type": "markdown",
      "metadata": {
        "id": "view-in-github",
        "colab_type": "text"
      },
      "source": [
        "<a href=\"https://colab.research.google.com/github/Misola-AiraMae/CPEN-21A-BSECE2-1/blob/main/Midterm_Exam.ipynb\" target=\"_parent\"><img src=\"https://colab.research.google.com/assets/colab-badge.svg\" alt=\"Open In Colab\"/></a>"
      ]
    },
    {
      "cell_type": "markdown",
      "metadata": {
        "id": "wCsCKNYa2FvN"
      },
      "source": [
        "#**Midterm Exam**"
      ]
    },
    {
      "cell_type": "markdown",
      "metadata": {
        "id": "_qiPkWw24Fpd"
      },
      "source": [
        "###PROBLEM STATEMENT 1"
      ]
    },
    {
      "cell_type": "code",
      "metadata": {
        "colab": {
          "base_uri": "https://localhost:8080/"
        },
        "id": "ZB6wsuzF2Bdi",
        "outputId": "e78fcc9b-2416-43d0-9166-1f5eacc7c3a6"
      },
      "source": [
        "name=input(\"Name:\")\n",
        "SN=input(\"Student Number:\")\n",
        "age=input(\"Age:\")\n",
        "bday=input(\"Birthday:\")\n",
        "Ads=input(\"Address:\")\n",
        "course=input(\"Course:\")\n",
        "gwa=input(\"Last Sem GWA:\")"
      ],
      "execution_count": 1,
      "outputs": [
        {
          "name": "stdout",
          "output_type": "stream",
          "text": [
            "Name:Aira Mae C. Misola\n",
            "Student Number:202016382\n",
            "Age:20\n",
            "Birthday:May 15, 2001\n",
            "Address:11667 Torres St., Mabuhay, Carmona, Cavite\n",
            "Course:BS in Electronics Engineering\n",
            "Last Sem GWA:1.76\n"
          ]
        }
      ]
    },
    {
      "cell_type": "markdown",
      "metadata": {
        "id": "5i3ZpLQn4TxD"
      },
      "source": [
        "###PROBLEM STATEMENT 2"
      ]
    },
    {
      "cell_type": "code",
      "metadata": {
        "colab": {
          "base_uri": "https://localhost:8080/"
        },
        "id": "nYiL7Yvw4SKe",
        "outputId": "ba129639-3494-4968-c9ea-b4dcf7d47fc2"
      },
      "source": [
        "n=4\n",
        "answ=\"Y\"\n",
        "print((2 < n) and (n < 6)) #a\n",
        "print((2 < n) or (n == 6)) #b\n",
        "print(not(2 < n or n == 6)) #c\n",
        "print(not(n < 6)) #d\n",
        "print((answ == \"Y\") or (answ == \"y\")) #e\n",
        "print((answ == \"Y\") and (answ == \"y\")) #f\n",
        "print(not(answ == \"y\" )) #g\n",
        "print((2 < n and n == 5+1) or (answ == \"No\")) #h\n",
        "print((n == 2) and (n == 7) or (answ == \"Y\")) #i\n",
        "print((n == 2) and (n == 7) or (answ == \"Y\")) #j"
      ],
      "execution_count": 21,
      "outputs": [
        {
          "output_type": "stream",
          "name": "stdout",
          "text": [
            "True\n",
            "True\n",
            "False\n",
            "False\n",
            "True\n",
            "False\n",
            "True\n",
            "False\n",
            "True\n",
            "True\n"
          ]
        }
      ]
    },
    {
      "cell_type": "markdown",
      "metadata": {
        "id": "3y6VDhVE-gGx"
      },
      "source": [
        "###PROBLEM STATEMENT 3"
      ]
    },
    {
      "cell_type": "code",
      "metadata": {
        "colab": {
          "base_uri": "https://localhost:8080/"
        },
        "id": "zN-ato4U-iKX",
        "outputId": "f58ccc45-c4c9-4e4c-cd2e-a5e87742821d"
      },
      "source": [
        "x=2\n",
        "y=-3\n",
        "w=7\n",
        "z=-10\n",
        "print(x/y) #a\n",
        "print(w/y/x) #b\n",
        "print(z/y%x) #c\n",
        "print(x%-y*w) #d\n",
        "print(x%y) #e\n",
        "print(z%w-y/x*5+5) #f\n",
        "print(9-x%(2+y)) #g\n",
        "print(z//w) #h\n",
        "print((2+y)**2) #i\n",
        "print(w/x*2) #j"
      ],
      "execution_count": 31,
      "outputs": [
        {
          "output_type": "stream",
          "name": "stdout",
          "text": [
            "-0.6666666666666666\n",
            "-1.1666666666666667\n",
            "1.3333333333333335\n",
            "14\n",
            "-1\n",
            "16.5\n",
            "9\n",
            "-2\n",
            "1\n",
            "7.0\n"
          ]
        }
      ]
    },
    {
      "cell_type": "code",
      "metadata": {
        "id": "L1FkH_sY-yQD"
      },
      "source": [
        ""
      ],
      "execution_count": null,
      "outputs": []
    }
  ]
}