{
  "nbformat": 4,
  "nbformat_minor": 0,
  "metadata": {
    "colab": {
      "name": "Demo1.ipynb",
      "provenance": [],
      "authorship_tag": "ABX9TyP5C7YfF/3w1L/Mu/9v41Xd",
      "include_colab_link": true
    },
    "kernelspec": {
      "name": "python3",
      "display_name": "Python 3"
    },
    "language_info": {
      "name": "python"
    }
  },
  "cells": [
    {
      "cell_type": "markdown",
      "metadata": {
        "id": "view-in-github",
        "colab_type": "text"
      },
      "source": [
        "<a href=\"https://colab.research.google.com/github/Misola-AiraMae/CPEN-21A-BSECE2-1/blob/main/Demo1.ipynb\" target=\"_parent\"><img src=\"https://colab.research.google.com/assets/colab-badge.svg\" alt=\"Open In Colab\"/></a>"
      ]
    },
    {
      "cell_type": "markdown",
      "metadata": {
        "id": "2kZJ53vasAAc"
      },
      "source": [
        "#Intro to Python Programming"
      ]
    },
    {
      "cell_type": "code",
      "metadata": {
        "colab": {
          "base_uri": "https://localhost:8080/"
        },
        "id": "Yff83jpK3PLD",
        "outputId": "26afd1ad-9ba5-4d1a-ea4f-6276e3a332b4"
      },
      "source": [
        "x=1\n",
        "a,b,c=0,1,2\n",
        "print(x)\n",
        "print(a)\n",
        "print(b)\n",
        "print(c) "
      ],
      "execution_count": 15,
      "outputs": [
        {
          "output_type": "stream",
          "name": "stdout",
          "text": [
            "1\n",
            "0\n",
            "1\n",
            "2\n"
          ]
        }
      ]
    },
    {
      "cell_type": "code",
      "metadata": {
        "colab": {
          "base_uri": "https://localhost:8080/"
        },
        "id": "rV4Pa4Wj3waK",
        "outputId": "a5d9b856-e911-4890-8e9f-82bb102201c5"
      },
      "source": [
        "d=\"Sally\"\n",
        "D=\"Ana\"\n",
        "e=\"John\"\n",
        "print(d)\n",
        "print(e)\n",
        "print(D)"
      ],
      "execution_count": 17,
      "outputs": [
        {
          "output_type": "stream",
          "name": "stdout",
          "text": [
            "Sally\n",
            "John\n",
            "Ana\n"
          ]
        }
      ]
    },
    {
      "cell_type": "code",
      "metadata": {
        "colab": {
          "base_uri": "https://localhost:8080/"
        },
        "id": "_uWMbeGp4i7s",
        "outputId": "b63736cd-f1c2-4b86-d452-552381fa023c"
      },
      "source": [
        "print(type(d))\n",
        "print(type(x))"
      ],
      "execution_count": 19,
      "outputs": [
        {
          "output_type": "stream",
          "name": "stdout",
          "text": [
            "<class 'str'>\n",
            "<class 'int'>\n"
          ]
        }
      ]
    },
    {
      "cell_type": "markdown",
      "metadata": {
        "id": "aXXkIvq04MR5"
      },
      "source": [
        "##Casting"
      ]
    },
    {
      "cell_type": "code",
      "metadata": {
        "colab": {
          "base_uri": "https://localhost:8080/"
        },
        "id": "sL2GoogH4PK4",
        "outputId": "d1e170fa-6899-4efc-a984-e054fa056631"
      },
      "source": [
        "f=float(4)\n",
        "print(f)\n",
        "g=int(5)\n",
        "print(g)"
      ],
      "execution_count": 18,
      "outputs": [
        {
          "output_type": "stream",
          "name": "stdout",
          "text": [
            "4.0\n",
            "5\n"
          ]
        }
      ]
    },
    {
      "cell_type": "markdown",
      "metadata": {
        "id": "d43SZgAF6LtJ"
      },
      "source": [
        "##Multiple Variables with one Value"
      ]
    },
    {
      "cell_type": "code",
      "metadata": {
        "colab": {
          "base_uri": "https://localhost:8080/"
        },
        "id": "kIwY9XYO6TZq",
        "outputId": "2712494c-e2d0-46ab-bad2-6fb43568f6b8"
      },
      "source": [
        "x=y=z=\"four\"\n",
        "print(x)\n",
        "print(y)\n",
        "print(z)"
      ],
      "execution_count": 31,
      "outputs": [
        {
          "output_type": "stream",
          "name": "stdout",
          "text": [
            "four\n",
            "four\n",
            "four\n"
          ]
        }
      ]
    },
    {
      "cell_type": "code",
      "metadata": {
        "colab": {
          "base_uri": "https://localhost:8080/"
        },
        "id": "1N-DzSRSsTfj",
        "outputId": "58e8a171-71e8-40bb-a36c-2adaed484e77"
      },
      "source": [
        "x=\"enjoying\"\n",
        "print(\"Python Programming is \" + x)"
      ],
      "execution_count": 20,
      "outputs": [
        {
          "output_type": "stream",
          "name": "stdout",
          "text": [
            "Python Programming is enjoying\n"
          ]
        }
      ]
    },
    {
      "cell_type": "code",
      "metadata": {
        "colab": {
          "base_uri": "https://localhost:8080/"
        },
        "id": "4IW3tONCySXM",
        "outputId": "19e443b3-95a7-4d1e-dee1-dfb87b51ce2e"
      },
      "source": [
        "x=5\n",
        "y=7\n",
        "x += y\n",
        "print(x)"
      ],
      "execution_count": 14,
      "outputs": [
        {
          "output_type": "stream",
          "name": "stdout",
          "text": [
            "12\n"
          ]
        }
      ]
    },
    {
      "cell_type": "code",
      "metadata": {
        "colab": {
          "base_uri": "https://localhost:8080/"
        },
        "id": "SAcpSvCp45V6",
        "outputId": "6ad30f05-0ad2-4d10-f1c1-5cd631a658b0"
      },
      "source": [
        "x=5\n",
        "y=7\n",
        "x<y and y==y"
      ],
      "execution_count": 21,
      "outputs": [
        {
          "output_type": "execute_result",
          "data": {
            "text/plain": [
              "True"
            ]
          },
          "metadata": {},
          "execution_count": 21
        }
      ]
    },
    {
      "cell_type": "code",
      "metadata": {
        "colab": {
          "base_uri": "https://localhost:8080/"
        },
        "id": "PGdW1ulI5DPZ",
        "outputId": "6061affb-41f1-4080-e39d-45a61d88b214"
      },
      "source": [
        "x=5\n",
        "y=7\n",
        "x<y or y==y"
      ],
      "execution_count": 22,
      "outputs": [
        {
          "output_type": "execute_result",
          "data": {
            "text/plain": [
              "True"
            ]
          },
          "metadata": {},
          "execution_count": 22
        }
      ]
    },
    {
      "cell_type": "code",
      "metadata": {
        "colab": {
          "base_uri": "https://localhost:8080/"
        },
        "id": "HSpullep5LpR",
        "outputId": "6e713248-4a1d-4a3d-93cc-9d99fe6d9127"
      },
      "source": [
        "x=5\n",
        "y=7\n",
        "x is y"
      ],
      "execution_count": 28,
      "outputs": [
        {
          "output_type": "execute_result",
          "data": {
            "text/plain": [
              "False"
            ]
          },
          "metadata": {},
          "execution_count": 28
        }
      ]
    },
    {
      "cell_type": "code",
      "metadata": {
        "colab": {
          "base_uri": "https://localhost:8080/"
        },
        "id": "dMgYmKfA5a58",
        "outputId": "51e1becc-76f1-48fe-861e-b4c30afc19e5"
      },
      "source": [
        "x=5\n",
        "y=7\n",
        "not(y is x)"
      ],
      "execution_count": 29,
      "outputs": [
        {
          "output_type": "execute_result",
          "data": {
            "text/plain": [
              "True"
            ]
          },
          "metadata": {},
          "execution_count": 29
        }
      ]
    }
  ]
}